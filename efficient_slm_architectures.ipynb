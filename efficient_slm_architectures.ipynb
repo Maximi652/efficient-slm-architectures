{
  "nbformat": 4,
  "nbformat_minor": 0,
  "metadata": {
    "colab": {
      "provenance": [],
      "gpuType": "T4",
      "include_colab_link": true
    },
    "kernelspec": {
      "name": "python3",
      "display_name": "Python 3"
    },
    "language_info": {
      "name": "python"
    },
    "accelerator": "GPU"
  },
  "cells": [
    {
      "cell_type": "markdown",
      "metadata": {
        "id": "view-in-github",
        "colab_type": "text"
      },
      "source": [
        "<a href=\"https://colab.research.google.com/github/Maximi652/efficient-slm-architectures/blob/main/efficient_slm_architectures.ipynb\" target=\"_parent\"><img src=\"https://colab.research.google.com/assets/colab-badge.svg\" alt=\"Open In Colab\"/></a>"
      ]
    },
    {
      "cell_type": "code",
      "source": [
        "!pip install -q gradio\n",
        "!pip install torch\n",
        "!pip install transformers\n",
        "!pip install -q huggingface_hub\n",
        "!pip install -U bitsandbytes"
      ],
      "metadata": {
        "id": "B2Z7turxrCKS"
      },
      "execution_count": null,
      "outputs": []
    },
    {
      "cell_type": "code",
      "execution_count": null,
      "metadata": {
        "id": "vN4wG7wsyd9U"
      },
      "outputs": [],
      "source": [
        "# Trainingsdaten\n",
        "import json\n",
        "\n",
        "# Open the file in read mode ('r')\n",
        "with open(\"/Training_Data/12B_combined_golden.json\", 'r') as f:\n",
        "    # Now you can load the JSON data from the file object 'f'\n",
        "    training_data = json.load(f)\n",
        "\n",
        "# print(json.dumps(training_data['questions'][0], indent=2))"
      ]
    },
    {
      "cell_type": "code",
      "source": [
        "import gradio as gr\n",
        "import torch\n",
        "from transformers import AutoTokenizer, AutoModelForCausalLM, BitsAndBytesConfig\n",
        "\n",
        "# Modell direkt von Hugging Face laden\n",
        "model_name = \"Qwen/Qwen2.5-7B-Instruct\"\n",
        "\n",
        "# 4-Bit Konfiguration\n",
        "bnb_config = BitsAndBytesConfig(\n",
        "    load_in_4bit=True,\n",
        "    bnb_4bit_use_double_quant=True,\n",
        "    bnb_4bit_quant_type=\"nf4\",\n",
        "    bnb_4bit_compute_dtype=torch.float16\n",
        ")\n",
        "\n",
        "tokenizer = AutoTokenizer.from_pretrained(model_name, trust_remote_code=True)\n",
        "\n",
        "# Modell in 4-bit laden, direkt auf GPU\n",
        "model = AutoModelForCausalLM.from_pretrained(\n",
        "    model_name,\n",
        "    device_map=\"auto\",\n",
        "    quantization_config=bnb_config,\n",
        "    trust_remote_code=True\n",
        ")\n",
        "\n",
        "# Antwortfunktion für Gradio\n",
        "def qwen_chat(prompt, history):\n",
        "    history = history or []\n",
        "\n",
        "    # Nachrichtenstruktur für Qwen\n",
        "    messages = [{\"role\": \"system\", \"content\": \"You are a helpful assistant.\"}]\n",
        "    for user_msg, bot_msg in history:\n",
        "        messages.append({\"role\": \"user\", \"content\": user_msg})\n",
        "        messages.append({\"role\": \"assistant\", \"content\": bot_msg})\n",
        "    messages.append({\"role\": \"user\", \"content\": prompt})\n",
        "\n",
        "    input_ids = tokenizer.apply_chat_template(messages, return_tensors=\"pt\").to(model.device)\n",
        "\n",
        "    with torch.no_grad():\n",
        "        output = model.generate(\n",
        "            input_ids,\n",
        "            max_new_tokens=1024,\n",
        "            temperature=0.7,\n",
        "            top_p=0.9,\n",
        "            do_sample=True,\n",
        "            eos_token_id=tokenizer.eos_token_id\n",
        "        )\n",
        "\n",
        "    response = tokenizer.decode(output[0][input_ids.shape[-1]:], skip_special_tokens=True)\n",
        "    history.append((prompt, response))\n",
        "    return \"\", history\n",
        "\n",
        "# Gradio-UI bauen\n",
        "with gr.Blocks() as demo:\n",
        "    gr.Markdown(\"## Qwen 2.5 7B Instruct Chatbot\")\n",
        "\n",
        "    chatbot = gr.Chatbot()\n",
        "    state = gr.State([])\n",
        "\n",
        "    with gr.Row():\n",
        "        msg = gr.Textbox(\n",
        "            show_label=False,\n",
        "            placeholder=\"Schreib etwas und klick auf 'Absenden'...\",\n",
        "            lines=2\n",
        "        )\n",
        "        send_btn = gr.Button(\"📤 Absenden\")\n",
        "\n",
        "    # Eingabe abschicken\n",
        "    send_btn.click(qwen_chat, [msg, state], [msg, chatbot])\n",
        "\n",
        "    # Optional: Verlauf löschen\n",
        "    clear_btn = gr.Button(\"🧹 Verlauf löschen\")\n",
        "    clear_btn.click(lambda: ([], []), None, [chatbot, state])\n",
        "\n",
        "# Starten\n",
        "demo.launch(debug=True)"
      ],
      "metadata": {
        "id": "HZl5U7w5qxhi"
      },
      "execution_count": null,
      "outputs": []
    },
    {
      "cell_type": "code",
      "source": [
        "# nach dem Testen ggf. den Server schließen\n",
        "demo.close()"
      ],
      "metadata": {
        "id": "jtwbq47zuQ1Q"
      },
      "execution_count": null,
      "outputs": []
    },
    {
      "cell_type": "code",
      "source": [
        "# Check GPU\n",
        "!nvidia-smi"
      ],
      "metadata": {
        "id": "CotETF3hc_qs"
      },
      "execution_count": null,
      "outputs": []
    },
    {
      "cell_type": "code",
      "source": [
        "# Check Zuordnung\n",
        "model.hf_device_map"
      ],
      "metadata": {
        "id": "adcus00xdEf3"
      },
      "execution_count": null,
      "outputs": []
    },
    {
      "cell_type": "code",
      "source": [
        "# from huggingface_hub import snapshot_download\n",
        "\n",
        "# # Zielverzeichnis\n",
        "# target_dir = \"./localQwen2.5-7B-Instruct\"\n",
        "\n",
        "# # Lade das Modell direkt von Hugging Face in diesen Ordner (spart RAM!)\n",
        "# snapshot_download(\n",
        "#     repo_id=\"Qwen/Qwen2.5-7B-Instruct\",\n",
        "#     local_dir=target_dir,\n",
        "#     local_dir_use_symlinks=False\n",
        "# )"
      ],
      "metadata": {
        "id": "Z1v0vF7uAr0o"
      },
      "execution_count": null,
      "outputs": []
    }
  ]
}