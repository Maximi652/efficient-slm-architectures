{
  "nbformat": 4,
  "nbformat_minor": 0,
  "metadata": {
    "colab": {
      "provenance": [],
      "authorship_tag": "ABX9TyP00UXl9Ti3xmPWsCeAmufg",
      "include_colab_link": true
    },
    "kernelspec": {
      "name": "python3",
      "display_name": "Python 3"
    },
    "language_info": {
      "name": "python"
    }
  },
  "cells": [
    {
      "cell_type": "markdown",
      "metadata": {
        "id": "view-in-github",
        "colab_type": "text"
      },
      "source": [
        "<a href=\"https://colab.research.google.com/github/Maximi652/efficient-slm-architectures/blob/main/LotteryTicketSLM.ipynb\" target=\"_parent\"><img src=\"https://colab.research.google.com/assets/colab-badge.svg\" alt=\"Open In Colab\"/></a>"
      ]
    },
    {
      "cell_type": "code",
      "execution_count": null,
      "metadata": {
        "id": "TtIUcvkMNgBn"
      },
      "outputs": [],
      "source": [
        "!pip install -q gradio\n",
        "!pip install torch\n",
        "!pip install transformers\n",
        "!pip install -q huggingface_hub\n",
        "!pip install -U bitsandbytes\n",
        "!pip install hf_xet"
      ]
    },
    {
      "cell_type": "code",
      "source": [
        "# Trainingsdaten\n",
        "import json\n",
        "\n",
        "# Open the file in read mode ('r')\n",
        "with open(\"12B_combined_golden.json\", 'r') as f:\n",
        "    # Now you can load the JSON data from the file object 'f'\n",
        "    training_data = json.load(f)\n",
        "\n",
        "# print(json.dumps(training_data['questions'][0], indent=2))"
      ],
      "metadata": {
        "id": "DalDAWLdNjA0"
      },
      "execution_count": null,
      "outputs": []
    },
    {
      "cell_type": "code",
      "source": [
        "import gradio as gr\n",
        "import torch\n",
        "from transformers import AutoTokenizer, AutoModelForCausalLM, BitsAndBytesConfig\n",
        "\n",
        "model_name = \"Qwen/Qwen3-4B\"\n",
        "\n",
        "# load the tokenizer and the model\n",
        "tokenizer = AutoTokenizer.from_pretrained(model_name)\n",
        "model = AutoModelForCausalLM.from_pretrained(\n",
        "    model_name,\n",
        "    torch_dtype=\"auto\",\n",
        "    device_map=\"auto\"\n",
        ")\n",
        "\n",
        "# Antwortfunktion für Gradio\n",
        "def qwen_chat(prompt, history):\n",
        "    history = history or []\n",
        "\n",
        "    # Nachrichtenstruktur für Qwen\n",
        "    messages = [{\"role\": \"system\", \"content\": \"You are a helpful assistant.\"}]\n",
        "    for user_msg, bot_msg in history:\n",
        "        messages.append({\"role\": \"user\", \"content\": user_msg})\n",
        "        messages.append({\"role\": \"assistant\", \"content\": bot_msg})\n",
        "    messages.append({\"role\": \"user\", \"content\": prompt})\n",
        "\n",
        "    input_ids = tokenizer.apply_chat_template(messages, return_tensors=\"pt\").to(model.device)\n",
        "\n",
        "    with torch.no_grad():\n",
        "        output = model.generate(\n",
        "            input_ids,\n",
        "            max_new_tokens=1024,\n",
        "            temperature=0.7,\n",
        "            top_p=0.9,\n",
        "            do_sample=True,\n",
        "            eos_token_id=tokenizer.eos_token_id\n",
        "        )\n",
        "\n",
        "    response = tokenizer.decode(output[0][input_ids.shape[-1]:], skip_special_tokens=True)\n",
        "    history.append((prompt, response))\n",
        "    return \"\", history\n",
        "\n",
        "# Gradio-UI bauen\n",
        "with gr.Blocks() as demo:\n",
        "    gr.Markdown(\"## Qwen 3 4B Chatbot\")\n",
        "\n",
        "    chatbot = gr.Chatbot()\n",
        "    state = gr.State([])\n",
        "\n",
        "    with gr.Row():\n",
        "        msg = gr.Textbox(\n",
        "            show_label=False,\n",
        "            placeholder=\"Schreib etwas und klick auf 'Absenden'...\",\n",
        "            lines=2\n",
        "        )\n",
        "        send_btn = gr.Button(\"📤 Absenden\")\n",
        "\n",
        "    # Eingabe abschicken\n",
        "    send_btn.click(qwen_chat, [msg, state], [msg, chatbot])\n",
        "\n",
        "    # Optional: Verlauf löschen\n",
        "    clear_btn = gr.Button(\"🧹 Verlauf löschen\")\n",
        "    clear_btn.click(lambda: ([], []), None, [chatbot, state])\n",
        "\n",
        "# Starten\n",
        "demo.launch(debug=True)"
      ],
      "metadata": {
        "id": "S1dHgE2HNkra"
      },
      "execution_count": null,
      "outputs": []
    }
  ]
}